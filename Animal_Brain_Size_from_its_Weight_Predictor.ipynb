{
  "nbformat": 4,
  "nbformat_minor": 0,
  "metadata": {
    "colab": {
      "name": "Animal Brain Size from its Weight Predictor",
      "version": "0.3.2",
      "views": {},
      "default_view": {},
      "provenance": [],
      "collapsed_sections": []
    },
    "kernelspec": {
      "name": "python3",
      "display_name": "Python 3"
    },
    "accelerator": "GPU"
  },
  "cells": [
    {
      "metadata": {
        "id": "rSWVO8DmqKaZ",
        "colab_type": "code",
        "colab": {
          "autoexec": {
            "startup": false,
            "wait_interval": 0
          },
          "output_extras": [
            {
              "item_id": 1
            }
          ],
          "base_uri": "https://localhost:8080/",
          "height": 347
        },
        "outputId": "5e1f2f3e-9584-4d03-a1af-c61b4f14a103",
        "executionInfo": {
          "status": "ok",
          "timestamp": 1516873150919,
          "user_tz": -330,
          "elapsed": 3980,
          "user": {
            "displayName": "Suraj",
            "photoUrl": "//lh5.googleusercontent.com/-n0XOqm4pzzY/AAAAAAAAAAI/AAAAAAAAGMk/QR2xoSjmXbk/s50-c-k-no/photo.jpg",
            "userId": "108764986987181223074"
          }
        }
      },
      "cell_type": "code",
      "source": [
        "!pip install -U -q PyDrive\n",
        "import numpy as np\n",
        "from pydrive.auth import GoogleAuth\n",
        "from pydrive.drive import GoogleDrive\n",
        "from google.colab import auth\n",
        "from oauth2client.client import GoogleCredentials\n",
        "\n",
        "# 1. Authenticate and create the PyDrive client.\n",
        "auth.authenticate_user()\n",
        "gauth = GoogleAuth()\n",
        "gauth.credentials = GoogleCredentials.get_application_default()\n",
        "drive = GoogleDrive(gauth)\n",
        "\n",
        "# 2. Load a file by ID and create local file.\n",
        "downloaded = drive.CreateFile({'id':'1_nRWYf4XlJrH5DvG4wcgyc957qgMJUIt'}) # replace fileid with Id of file you want to access\n",
        "downloaded.GetContentFile('export.txt') # now you can use export.csv share\n",
        "\n",
        "import pandas as pd\n",
        "from sklearn import linear_model\n",
        "import matplotlib.pyplot as plt\n",
        "\n",
        "#read data\n",
        "\n",
        "dataframe = pd.read_fwf('export.txt')\n",
        "x_values = dataframe[['Brain']]\n",
        "y_values = dataframe[['Body']]\n",
        "x_values = np.asarray(x_values)\n",
        "y_values = np.asarray(y_values)\n",
        "#train model on data\n",
        "body_reg = linear_model.LinearRegression()\n",
        "body_reg.fit(x_values, y_values)\n",
        "\n",
        "#visualize results\n",
        "plt.scatter(x_values, y_values)\n",
        "plt.plot(x_values, body_reg.predict(x_values))\n",
        "plt.show()"
      ],
      "execution_count": 6,
      "outputs": [
        {
          "output_type": "display_data",
          "data": {
            "image/png": "[encoded data removed]",
            "text/plain": [
              "<matplotlib.figure.Figure at 0x7fd0089f7e80>"
            ]
          },
          "metadata": {
            "tags": []
          }
        }
      ]
    },
    {
      "metadata": {
        "id": "z8i_LauXs0CB",
        "colab_type": "code",
        "colab": {
          "autoexec": {
            "startup": false,
            "wait_interval": 0
          }
        }
      },
      "cell_type": "code",
      "source": [
        ""
      ],
      "execution_count": 0,
      "outputs": []
    }
  ]
}